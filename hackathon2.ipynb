{
 "cells": [
  {
   "cell_type": "markdown",
   "id": "eb8beca2",
   "metadata": {},
   "source": [
    "# Amazon ML Hackathon - Team ZEAL "
   ]
  },
  {
   "cell_type": "code",
   "execution_count": 1,
   "id": "b105480c",
   "metadata": {},
   "outputs": [],
   "source": [
    "from sklearn.model_selection import train_test_split\n",
    "from sklearn.preprocessing import LabelEncoder as lb\n",
    "from sklearn.svm import LinearSVC\n",
    "import pandas as pd\n",
    "from sklearn.metrics import accuracy_score"
   ]
  },
  {
   "cell_type": "markdown",
   "id": "cc583deb",
   "metadata": {},
   "source": [
    "We are using \"Train.csv\" file which contains below mentioned features, rows & columns. "
   ]
  },
  {
   "cell_type": "code",
   "execution_count": 2,
   "id": "752977d1",
   "metadata": {},
   "outputs": [],
   "source": [
    "df = pd.read_csv('train.csv')"
   ]
  },
  {
   "cell_type": "code",
   "execution_count": 3,
   "id": "150e9ad6",
   "metadata": {},
   "outputs": [
    {
     "name": "stdout",
     "output_type": "stream",
     "text": [
      "   PRODUCT_ID                                              TITLE  \\\n",
      "0     1925202  ArtzFolio Tulip Flowers Blackout Curtain for D...   \n",
      "1     2673191  Marks & Spencer Girls' Pyjama Sets T86_2561C_N...   \n",
      "2     2765088  PRIKNIK Horn Red Electric Air Horn Compressor ...   \n",
      "3     1594019  ALISHAH Women's Cotton Ankle Length Leggings C...   \n",
      "4      283658  The United Empire Loyalists: A Chronicle of th...   \n",
      "\n",
      "                                       BULLET_POINTS  \\\n",
      "0  [LUXURIOUS & APPEALING: Beautiful custom-made ...   \n",
      "1  [Harry Potter Hedwig Pyjamas (6-16 Yrs),100% c...   \n",
      "2  [Loud Dual Tone Trumpet Horn, Compatible With ...   \n",
      "3  [Made By 95%cotton and 5% Lycra which gives yo...   \n",
      "4                                                NaN   \n",
      "\n",
      "                                         DESCRIPTION  PRODUCT_TYPE_ID  \\\n",
      "0                                                NaN             1650   \n",
      "1                                                NaN             2755   \n",
      "2  Specifications: Color: Red, Material: Aluminiu...             7537   \n",
      "3  AISHAH Women's Lycra Cotton Ankel Leggings. Br...             2996   \n",
      "4                                                NaN             6112   \n",
      "\n",
      "   PRODUCT_LENGTH  \n",
      "0     2125.980000  \n",
      "1      393.700000  \n",
      "2      748.031495  \n",
      "3      787.401574  \n",
      "4      598.424000  \n",
      "(2249698, 6)\n"
     ]
    }
   ],
   "source": [
    "df.dropna()\n",
    "print(df.head())\n",
    "print(df.shape)"
   ]
  },
  {
   "cell_type": "markdown",
   "id": "cb1ea530",
   "metadata": {},
   "source": [
    "from above, we can observe that train.csv contains 22 Lakh Rows and 6 Columns"
   ]
  },
  {
   "cell_type": "code",
   "execution_count": 4,
   "id": "f2facf3b",
   "metadata": {},
   "outputs": [
    {
     "data": {
      "text/html": [
       "<div>\n",
       "<style scoped>\n",
       "    .dataframe tbody tr th:only-of-type {\n",
       "        vertical-align: middle;\n",
       "    }\n",
       "\n",
       "    .dataframe tbody tr th {\n",
       "        vertical-align: top;\n",
       "    }\n",
       "\n",
       "    .dataframe thead th {\n",
       "        text-align: right;\n",
       "    }\n",
       "</style>\n",
       "<table border=\"1\" class=\"dataframe\">\n",
       "  <thead>\n",
       "    <tr style=\"text-align: right;\">\n",
       "      <th></th>\n",
       "      <th>PRODUCT_ID</th>\n",
       "      <th>PRODUCT_TYPE_ID</th>\n",
       "      <th>PRODUCT_LENGTH</th>\n",
       "    </tr>\n",
       "  </thead>\n",
       "  <tbody>\n",
       "    <tr>\n",
       "      <th>count</th>\n",
       "      <td>2.249698e+06</td>\n",
       "      <td>2.249698e+06</td>\n",
       "      <td>2.249698e+06</td>\n",
       "    </tr>\n",
       "    <tr>\n",
       "      <th>mean</th>\n",
       "      <td>1.499795e+06</td>\n",
       "      <td>4.000456e+03</td>\n",
       "      <td>4.071839e+03</td>\n",
       "    </tr>\n",
       "    <tr>\n",
       "      <th>std</th>\n",
       "      <td>8.661944e+05</td>\n",
       "      <td>3.966146e+03</td>\n",
       "      <td>1.351685e+06</td>\n",
       "    </tr>\n",
       "    <tr>\n",
       "      <th>min</th>\n",
       "      <td>1.000000e+00</td>\n",
       "      <td>0.000000e+00</td>\n",
       "      <td>1.000000e+00</td>\n",
       "    </tr>\n",
       "    <tr>\n",
       "      <th>25%</th>\n",
       "      <td>7.494795e+05</td>\n",
       "      <td>2.300000e+02</td>\n",
       "      <td>5.118110e+02</td>\n",
       "    </tr>\n",
       "    <tr>\n",
       "      <th>50%</th>\n",
       "      <td>1.499558e+06</td>\n",
       "      <td>2.916000e+03</td>\n",
       "      <td>6.630000e+02</td>\n",
       "    </tr>\n",
       "    <tr>\n",
       "      <th>75%</th>\n",
       "      <td>2.250664e+06</td>\n",
       "      <td>6.403000e+03</td>\n",
       "      <td>1.062992e+03</td>\n",
       "    </tr>\n",
       "    <tr>\n",
       "      <th>max</th>\n",
       "      <td>2.999999e+06</td>\n",
       "      <td>1.342000e+04</td>\n",
       "      <td>1.885801e+09</td>\n",
       "    </tr>\n",
       "  </tbody>\n",
       "</table>\n",
       "</div>"
      ],
      "text/plain": [
       "         PRODUCT_ID  PRODUCT_TYPE_ID  PRODUCT_LENGTH\n",
       "count  2.249698e+06     2.249698e+06    2.249698e+06\n",
       "mean   1.499795e+06     4.000456e+03    4.071839e+03\n",
       "std    8.661944e+05     3.966146e+03    1.351685e+06\n",
       "min    1.000000e+00     0.000000e+00    1.000000e+00\n",
       "25%    7.494795e+05     2.300000e+02    5.118110e+02\n",
       "50%    1.499558e+06     2.916000e+03    6.630000e+02\n",
       "75%    2.250664e+06     6.403000e+03    1.062992e+03\n",
       "max    2.999999e+06     1.342000e+04    1.885801e+09"
      ]
     },
     "execution_count": 4,
     "metadata": {},
     "output_type": "execute_result"
    }
   ],
   "source": [
    "df.describe()"
   ]
  },
  {
   "cell_type": "code",
   "execution_count": 5,
   "id": "df09c9c6",
   "metadata": {},
   "outputs": [
    {
     "data": {
      "text/html": [
       "<div>\n",
       "<style scoped>\n",
       "    .dataframe tbody tr th:only-of-type {\n",
       "        vertical-align: middle;\n",
       "    }\n",
       "\n",
       "    .dataframe tbody tr th {\n",
       "        vertical-align: top;\n",
       "    }\n",
       "\n",
       "    .dataframe thead th {\n",
       "        text-align: right;\n",
       "    }\n",
       "</style>\n",
       "<table border=\"1\" class=\"dataframe\">\n",
       "  <thead>\n",
       "    <tr style=\"text-align: right;\">\n",
       "      <th></th>\n",
       "      <th>PRODUCT_ID</th>\n",
       "      <th>PRODUCT_TYPE_ID</th>\n",
       "      <th>PRODUCT_LENGTH</th>\n",
       "    </tr>\n",
       "  </thead>\n",
       "  <tbody>\n",
       "    <tr>\n",
       "      <th>PRODUCT_ID</th>\n",
       "      <td>1.000000</td>\n",
       "      <td>0.250576</td>\n",
       "      <td>0.000424</td>\n",
       "    </tr>\n",
       "    <tr>\n",
       "      <th>PRODUCT_TYPE_ID</th>\n",
       "      <td>0.250576</td>\n",
       "      <td>1.000000</td>\n",
       "      <td>0.000961</td>\n",
       "    </tr>\n",
       "    <tr>\n",
       "      <th>PRODUCT_LENGTH</th>\n",
       "      <td>0.000424</td>\n",
       "      <td>0.000961</td>\n",
       "      <td>1.000000</td>\n",
       "    </tr>\n",
       "  </tbody>\n",
       "</table>\n",
       "</div>"
      ],
      "text/plain": [
       "                 PRODUCT_ID  PRODUCT_TYPE_ID  PRODUCT_LENGTH\n",
       "PRODUCT_ID         1.000000         0.250576        0.000424\n",
       "PRODUCT_TYPE_ID    0.250576         1.000000        0.000961\n",
       "PRODUCT_LENGTH     0.000424         0.000961        1.000000"
      ]
     },
     "execution_count": 5,
     "metadata": {},
     "output_type": "execute_result"
    }
   ],
   "source": [
    "df.corr()"
   ]
  },
  {
   "cell_type": "markdown",
   "id": "e3830e6c",
   "metadata": {},
   "source": [
    "### It shows that Pearson Correlation of the dataset is very Low with other entities."
   ]
  },
  {
   "cell_type": "code",
   "execution_count": 6,
   "id": "d0298cf6",
   "metadata": {},
   "outputs": [],
   "source": [
    "from sklearn.preprocessing import LabelEncoder as le\n",
    "def prep_data(td):\n",
    "    new_td = td.drop_duplicates()\n",
    "    new_td['PRODUCT_ID'] = new_td.index + 1\n",
    "    new_td.set_index('PRODUCT_ID', inplace=True)\n",
    "    new_td['DATA'] = new_td['TITLE'].astype(str)+\" \"+new_td['DESCRIPTION'].astype(str)+\" \"+new_td['BULLET_POINTS'].astype(str)\n",
    "    new_td['PRODUCT_LENGTH'] = new_td['PRODUCT_LENGTH'].astype(int)\n",
    "    new_td['CATEGORY'] = new_td['PRODUCT_LENGTH'].astype('category')\n",
    "    return new_td"
   ]
  },
  {
   "cell_type": "markdown",
   "id": "86307827",
   "metadata": {},
   "source": [
    "We are using Label Encoder to label all the Continous data to Categorical Data & the Function Prep_Data is basically removing all the duplicates from the data, as well as combining the important strings present in the Title, Description and Bulletpoints into a new column called \"Data\" \n"
   ]
  },
  {
   "cell_type": "markdown",
   "id": "82485c79",
   "metadata": {},
   "source": [
    "## Data Preprocessing"
   ]
  },
  {
   "cell_type": "code",
   "execution_count": 7,
   "id": "48c8abcc",
   "metadata": {},
   "outputs": [
    {
     "name": "stdout",
     "output_type": "stream",
     "text": [
      "                                                        TITLE  \\\n",
      "PRODUCT_ID                                                      \n",
      "3           PRIKNIK Horn Red Electric Air Horn Compressor ...   \n",
      "4           ALISHAH Women's Cotton Ankle Length Leggings C...   \n",
      "6           HINS Metal Bucket Shape Plant Pot for Indoor &...   \n",
      "8           Delavala Self Adhesive Kitchen Backsplash Wall...   \n",
      "10          Hexwell Essential oil for Home Fragrance Oil A...   \n",
      "\n",
      "                                                BULLET_POINTS  \\\n",
      "PRODUCT_ID                                                      \n",
      "3           [Loud Dual Tone Trumpet Horn, Compatible With ...   \n",
      "4           [Made By 95%cotton and 5% Lycra which gives yo...   \n",
      "6           [Simple and elegant, great for displaying indo...   \n",
      "8           [HIGH QUALITY PVC MATERIAL: The kitchen alumin...   \n",
      "10          [100% Pure And Natural Essential Oil Or Fragra...   \n",
      "\n",
      "                                                  DESCRIPTION  \\\n",
      "PRODUCT_ID                                                      \n",
      "3           Specifications: Color: Red, Material: Aluminiu...   \n",
      "4           AISHAH Women's Lycra Cotton Ankel Leggings. Br...   \n",
      "6           HINS Brings you the most Elegant Looking Pot w...   \n",
      "8           <p><strong>Aluminum Foil Stickers-good kitchen...   \n",
      "10          Transform your home, workplace or hotel room i...   \n",
      "\n",
      "            PRODUCT_TYPE_ID  PRODUCT_LENGTH  \\\n",
      "PRODUCT_ID                                    \n",
      "3                      7537             748   \n",
      "4                      2996             787   \n",
      "6                      5725             950   \n",
      "8                      6030             984   \n",
      "10                     8201             393   \n",
      "\n",
      "                                                         DATA CATEGORY  \n",
      "PRODUCT_ID                                                              \n",
      "3           PRIKNIK Horn Red Electric Air Horn Compressor ...      748  \n",
      "4           ALISHAH Women's Cotton Ankle Length Leggings C...      787  \n",
      "6           HINS Metal Bucket Shape Plant Pot for Indoor &...      950  \n",
      "8           Delavala Self Adhesive Kitchen Backsplash Wall...      984  \n",
      "10          Hexwell Essential oil for Home Fragrance Oil A...      393  \n",
      "(1038460, 7)\n"
     ]
    }
   ],
   "source": [
    "new_df = prep_data(df)\n",
    "new_df = new_df.dropna()\n",
    "print(new_df.head())\n",
    "print(new_df.shape)"
   ]
  },
  {
   "cell_type": "markdown",
   "id": "4543940e",
   "metadata": {},
   "source": [
    "We can observe that after removal of duplication, we posses only 10 Lakh lines of data"
   ]
  },
  {
   "cell_type": "code",
   "execution_count": 8,
   "id": "e9e1822e",
   "metadata": {},
   "outputs": [
    {
     "name": "stdout",
     "output_type": "stream",
     "text": [
      "PRODUCT_ID\n",
      "3     PRIKNIK Horn Red Electric Air Horn Compressor ...\n",
      "4     ALISHAH Women's Cotton Ankle Length Leggings C...\n",
      "6     HINS Metal Bucket Shape Plant Pot for Indoor &...\n",
      "8     Delavala Self Adhesive Kitchen Backsplash Wall...\n",
      "10    Hexwell Essential oil for Home Fragrance Oil A...\n",
      "Name: DATA, dtype: object (1038460,) PRODUCT_ID\n",
      "3     748\n",
      "4     787\n",
      "6     950\n",
      "8     984\n",
      "10    393\n",
      "Name: CATEGORY, dtype: category\n",
      "Categories (7303, int64): [1, 2, 3, 4, ..., 224928000, 393701000, 480315220, 1885801400] (1038460,)\n"
     ]
    }
   ],
   "source": [
    "X = new_df['DATA']\n",
    "Y = new_df['CATEGORY']\n",
    "print(X.head(), X.shape, Y.head(), Y.shape, end=\"\\n\")"
   ]
  },
  {
   "cell_type": "code",
   "execution_count": 9,
   "id": "af61a200",
   "metadata": {},
   "outputs": [
    {
     "name": "stdout",
     "output_type": "stream",
     "text": [
      "(51923,) (51923,) (10385,) (10385,)\n",
      "PRODUCT_ID\n",
      "213558      900\n",
      "1148999    1000\n",
      "1940595     490\n",
      "1339265    1102\n",
      "501029      826\n",
      "Name: CATEGORY, dtype: category\n",
      "Categories (7303, int64): [1, 2, 3, 4, ..., 224928000, 393701000, 480315220, 1885801400]\n"
     ]
    }
   ],
   "source": [
    "X_train, X_test,Y_train, Y_test = train_test_split(X,Y, train_size = 0.05,test_size=0.01, random_state = 42)\n",
    "print(X_train.shape, Y_train.shape, X_test.shape, Y_test.shape)\n",
    "print(Y_train.head())"
   ]
  },
  {
   "cell_type": "markdown",
   "id": "ae342995",
   "metadata": {},
   "source": [
    "We are using Batch Train Size of 50 Thousand Rows and Test_Size as 10 Thousand rows"
   ]
  },
  {
   "cell_type": "code",
   "execution_count": 10,
   "id": "853157ff",
   "metadata": {},
   "outputs": [
    {
     "name": "stdout",
     "output_type": "stream",
     "text": [
      "PRODUCT_ID\n",
      "213558     Arlen Ness 17-110 Rear Adjustable Lowering Kit...\n",
      "1148999    College Dorm Dust Ruffled Bed Skirt-Extra Long...\n",
      "1940595    Sweejar Ceramic Baking Dish, Rectangular Lasag...\n",
      "1339265    FAZZN Women's Casual Round Neck Full Sleeves K...\n",
      "501029     Mens Comfortable Trending And Stylish Slipper ...\n",
      "Name: DATA, dtype: object\n"
     ]
    }
   ],
   "source": [
    "print(X_train.head())"
   ]
  },
  {
   "cell_type": "markdown",
   "id": "50adf1a9",
   "metadata": {},
   "source": [
    "## Feature Extraction "
   ]
  },
  {
   "cell_type": "code",
   "execution_count": 11,
   "id": "450d5973",
   "metadata": {},
   "outputs": [
    {
     "name": "stdout",
     "output_type": "stream",
     "text": [
      "(51923, 123386) (10385, 123386)\n"
     ]
    }
   ],
   "source": [
    "from sklearn.feature_extraction.text import TfidfVectorizer\n",
    "ft_ext = TfidfVectorizer(min_df = 1, stop_words = 'english', lowercase = 'True')\n",
    "xtrf = ft_ext.fit_transform(X_train)\n",
    "xtef = ft_ext.transform(X_test)\n",
    "print(xtrf.shape, xtef.shape)"
   ]
  },
  {
   "cell_type": "code",
   "execution_count": 12,
   "id": "aab7a1e0",
   "metadata": {},
   "outputs": [
    {
     "name": "stdout",
     "output_type": "stream",
     "text": [
      "  (0, 77644)\t0.09609722097882067\n",
      "  (0, 93523)\t0.08159271785968844\n",
      "  (0, 23856)\t0.10013432041015582\n",
      "  (0, 24266)\t0.1044174370584644\n",
      "  (0, 106468)\t0.1147225623130106\n",
      "  (0, 49880)\t0.09791845013929815\n",
      "  (0, 74134)\t0.07340383580914842\n",
      "  (0, 87573)\t0.09747076186351943\n",
      "  (0, 51285)\t0.08618476045377414\n",
      "  (0, 89318)\t0.09009707926996774\n",
      "  (0, 71653)\t0.06843421097478097\n",
      "  (0, 100988)\t0.08601112069235213\n",
      "  (0, 28607)\t0.09507550368265455\n",
      "  (0, 55523)\t0.06309925368398014\n",
      "  (0, 29010)\t0.10050019400701264\n",
      "  (0, 36373)\t0.09336265822483598\n",
      "  (0, 88251)\t0.09742167556480613\n",
      "  (0, 58495)\t0.18308377523437724\n",
      "  (0, 79719)\t0.09584775755205716\n",
      "  (0, 29391)\t0.11393387190129345\n",
      "  (0, 62478)\t0.12184608756759065\n",
      "  (0, 22449)\t0.09113503032713353\n",
      "  (0, 28651)\t0.14976123400874333\n",
      "  (0, 106871)\t0.15595645427618549\n",
      "  (0, 14402)\t0.15284043072804626\n",
      "  :\t:\n",
      "  (51922, 47824)\t0.02569239383536994\n",
      "  (51922, 50003)\t0.028150991978616532\n",
      "  (51922, 103129)\t0.026169422981200834\n",
      "  (51922, 50641)\t0.018646880204936364\n",
      "  (51922, 59688)\t0.012533642831384854\n",
      "  (51922, 36996)\t0.01833484358864147\n",
      "  (51922, 50246)\t0.10419539011625625\n",
      "  (51922, 105034)\t0.03130214050480983\n",
      "  (51922, 116360)\t0.12465014122778852\n",
      "  (51922, 81595)\t0.021670703192466896\n",
      "  (51922, 51444)\t0.030654648361854848\n",
      "  (51922, 33366)\t0.02049066243790153\n",
      "  (51922, 45413)\t0.015013152048252544\n",
      "  (51922, 89298)\t0.025662917088324758\n",
      "  (51922, 40695)\t0.021125679239304813\n",
      "  (51922, 96178)\t0.04053980482684902\n",
      "  (51922, 101536)\t0.04103527483356333\n",
      "  (51922, 35796)\t0.0183556129219516\n",
      "  (51922, 80906)\t0.01948816880191899\n",
      "  (51922, 46154)\t0.08704223087742176\n",
      "  (51922, 36963)\t0.01922456552476367\n",
      "  (51922, 85537)\t0.013248029438761123\n",
      "  (51922, 71421)\t0.015616588492537551\n",
      "  (51922, 50571)\t0.032727710530900775\n",
      "  (51922, 83775)\t0.016567521813123626\n"
     ]
    }
   ],
   "source": [
    "print(xtrf)"
   ]
  },
  {
   "cell_type": "markdown",
   "id": "3a69dc7b",
   "metadata": {},
   "source": [
    "## Linear Support Vector Machine"
   ]
  },
  {
   "cell_type": "code",
   "execution_count": 14,
   "id": "8662ff0e",
   "metadata": {},
   "outputs": [
    {
     "name": "stdout",
     "output_type": "stream",
     "text": [
      "0.9721318105656452\n"
     ]
    }
   ],
   "source": [
    "model = LinearSVC()\n",
    "model.fit(xtrf, Y_train)\n",
    "print(accuracy_score(Y_train, model.predict(xtrf)))"
   ]
  },
  {
   "cell_type": "markdown",
   "id": "5531712a",
   "metadata": {},
   "source": [
    "We obtained the accuracy of 97.21%"
   ]
  },
  {
   "cell_type": "code",
   "execution_count": 15,
   "id": "41cf503e",
   "metadata": {},
   "outputs": [],
   "source": [
    "test_df = pd.read_csv(\"test.csv\")\n",
    "test_df = test_df.dropna()"
   ]
  },
  {
   "cell_type": "code",
   "execution_count": 16,
   "id": "08dde817",
   "metadata": {},
   "outputs": [
    {
     "name": "stdout",
     "output_type": "stream",
     "text": [
      "    PRODUCT_ID                                              TITLE  \\\n",
      "1      1729783  DCGARING Microfiber Throw Blanket Warm Fuzzy P...   \n",
      "2      1871949  I-Match Auto Parts Front License Plate Bracket...   \n",
      "3      1107571  PinMart Gold Plated Excellence in Service 1 Ye...   \n",
      "5      2782548  Evershine Shoppee 10m Waxed Nylon Thread Cotto...   \n",
      "11     2736605  SHASAK Sanganer Hand Block Printed Short Kurta...   \n",
      "\n",
      "                                        BULLET_POINTS  \\\n",
      "1   [QUALITY GUARANTEED: Luxury cozy plush polyest...   \n",
      "2   [Front License Plate Bracket Made Of Plastic,D...   \n",
      "3   [Available as a single item or bulk packed. Se...   \n",
      "5   [Kindly Refer The Product Description Before B...   \n",
      "11  [Confused between wearing a T-shirt and a shir...   \n",
      "\n",
      "                                          DESCRIPTION  PRODUCT_TYPE_ID  \n",
      "1   <b>DCGARING Throw Blanket</b><br><br> <b>Size ...             1622  \n",
      "2   Replacement for The Following Vehicles:2020 LE...             7540  \n",
      "3   Our Excellence in Service Lapel Pins feature a...            12442  \n",
      "5   Description: Material: Nylon Length: about 10m...            11205  \n",
      "11  Men’s Pure Cotton Sanganeri Hand-Block Print S...             2911  \n",
      "(337002, 5)\n"
     ]
    }
   ],
   "source": [
    "print(test_df.head())\n",
    "print(test_df.shape)\n"
   ]
  },
  {
   "cell_type": "code",
   "execution_count": 17,
   "id": "abfdc3b0",
   "metadata": {},
   "outputs": [
    {
     "data": {
      "text/plain": [
       "Index(['PRODUCT_ID', 'TITLE', 'BULLET_POINTS', 'DESCRIPTION',\n",
       "       'PRODUCT_TYPE_ID'],\n",
       "      dtype='object')"
      ]
     },
     "execution_count": 17,
     "metadata": {},
     "output_type": "execute_result"
    }
   ],
   "source": [
    "test_df.columns"
   ]
  },
  {
   "cell_type": "code",
   "execution_count": 18,
   "id": "eeabdeee",
   "metadata": {},
   "outputs": [],
   "source": [
    "def prep_test(td):\n",
    "    new_td = td.drop_duplicates()\n",
    "    new_td['PRODUCT_ID'] = new_td.index + 1\n",
    "    new_td.set_index('PRODUCT_ID', inplace=True)\n",
    "    new_td['DATA'] = new_td['TITLE'].astype(str)+\" \"+new_td['DESCRIPTION'].astype(str)+\" \"+new_td['BULLET_POINTS'].astype(str)\n",
    "    return new_td"
   ]
  },
  {
   "cell_type": "code",
   "execution_count": 19,
   "id": "31237c7f",
   "metadata": {},
   "outputs": [],
   "source": [
    "new_td = prep_test(test_df)"
   ]
  },
  {
   "cell_type": "code",
   "execution_count": 20,
   "id": "c8aaaba2",
   "metadata": {},
   "outputs": [
    {
     "name": "stdout",
     "output_type": "stream",
     "text": [
      "896013.5868690176\n"
     ]
    }
   ],
   "source": [
    "from sklearn.metrics import mean_squared_error as mse\n",
    "print(mse(Y_train, model.predict(xtrf)))"
   ]
  },
  {
   "cell_type": "code",
   "execution_count": 21,
   "id": "12a1b78f",
   "metadata": {},
   "outputs": [
    {
     "name": "stdout",
     "output_type": "stream",
     "text": [
      "0.031001362018000092\n"
     ]
    }
   ],
   "source": [
    "from sklearn.metrics import mean_absolute_percentage_error as mspe\n",
    "print(mspe(Y_train, model.predict(xtrf)))"
   ]
  },
  {
   "cell_type": "markdown",
   "id": "14b41535",
   "metadata": {},
   "source": [
    "From above we can understand that Mean_Squared Error is very high which suggests that model is having various outliers or we can say that some products have very high length such as Curtains, bedsheet, or various things and some have very small lengths. eg: Wrist watch, necklace etc."
   ]
  },
  {
   "cell_type": "code",
   "execution_count": 22,
   "id": "f8fdc196",
   "metadata": {},
   "outputs": [
    {
     "name": "stdout",
     "output_type": "stream",
     "text": [
      "                                                        TITLE  \\\n",
      "PRODUCT_ID                                                      \n",
      "2           DCGARING Microfiber Throw Blanket Warm Fuzzy P...   \n",
      "3           I-Match Auto Parts Front License Plate Bracket...   \n",
      "4           PinMart Gold Plated Excellence in Service 1 Ye...   \n",
      "6           Evershine Shoppee 10m Waxed Nylon Thread Cotto...   \n",
      "12          SHASAK Sanganer Hand Block Printed Short Kurta...   \n",
      "\n",
      "                                                BULLET_POINTS  \\\n",
      "PRODUCT_ID                                                      \n",
      "2           [QUALITY GUARANTEED: Luxury cozy plush polyest...   \n",
      "3           [Front License Plate Bracket Made Of Plastic,D...   \n",
      "4           [Available as a single item or bulk packed. Se...   \n",
      "6           [Kindly Refer The Product Description Before B...   \n",
      "12          [Confused between wearing a T-shirt and a shir...   \n",
      "\n",
      "                                                  DESCRIPTION  \\\n",
      "PRODUCT_ID                                                      \n",
      "2           <b>DCGARING Throw Blanket</b><br><br> <b>Size ...   \n",
      "3           Replacement for The Following Vehicles:2020 LE...   \n",
      "4           Our Excellence in Service Lapel Pins feature a...   \n",
      "6           Description: Material: Nylon Length: about 10m...   \n",
      "12          Men’s Pure Cotton Sanganeri Hand-Block Print S...   \n",
      "\n",
      "            PRODUCT_TYPE_ID                                               DATA  \n",
      "PRODUCT_ID                                                                      \n",
      "2                      1622  DCGARING Microfiber Throw Blanket Warm Fuzzy P...  \n",
      "3                      7540  I-Match Auto Parts Front License Plate Bracket...  \n",
      "4                     12442  PinMart Gold Plated Excellence in Service 1 Ye...  \n",
      "6                     11205  Evershine Shoppee 10m Waxed Nylon Thread Cotto...  \n",
      "12                     2911  SHASAK Sanganer Hand Block Printed Short Kurta...  \n",
      "(337002, 5)\n"
     ]
    }
   ],
   "source": [
    "new_df = new_td.dropna()\n",
    "print(new_df.head())\n",
    "print(new_df.shape)"
   ]
  },
  {
   "cell_type": "code",
   "execution_count": 28,
   "id": "ad5935ac",
   "metadata": {},
   "outputs": [
    {
     "name": "stdout",
     "output_type": "stream",
     "text": [
      "<class 'numpy.ndarray'>\n"
     ]
    }
   ],
   "source": [
    "X_new_test = new_df['DATA']\n",
    "p = list()\n",
    "Xtnef = ft_ext.transform(X_new_test[0:50000])\n",
    "print(type(model.predict(Xtnef)))\n",
    "for i in model.predict(Xtnef):\n",
    "    p.append(i)"
   ]
  },
  {
   "cell_type": "code",
   "execution_count": 30,
   "id": "078519ab",
   "metadata": {},
   "outputs": [],
   "source": [
    "final_df = pd.DataFrame()"
   ]
  },
  {
   "cell_type": "code",
   "execution_count": 31,
   "id": "07efc4a9",
   "metadata": {},
   "outputs": [],
   "source": [
    "Xtnef = ft_ext.transform(X_new_test[50000:100000])\n",
    "for i in model.predict(Xtnef):\n",
    "    p.append(i)"
   ]
  },
  {
   "cell_type": "code",
   "execution_count": 32,
   "id": "330c3539",
   "metadata": {},
   "outputs": [],
   "source": [
    "Xtnef = ft_ext.transform(X_new_test[100000:150000])\n",
    "for i in model.predict(Xtnef):\n",
    "    p.append(i)"
   ]
  },
  {
   "cell_type": "code",
   "execution_count": 33,
   "id": "e5d5c6ec",
   "metadata": {},
   "outputs": [],
   "source": [
    "Xtnef = ft_ext.transform(X_new_test[150000:200000])\n",
    "for i in model.predict(Xtnef):\n",
    "    p.append(i)"
   ]
  },
  {
   "cell_type": "code",
   "execution_count": 34,
   "id": "f125eb43",
   "metadata": {},
   "outputs": [],
   "source": [
    "Xtnef = ft_ext.transform(X_new_test[200000:250000])\n",
    "for i in model.predict(Xtnef):\n",
    "    p.append(i)"
   ]
  },
  {
   "cell_type": "code",
   "execution_count": 35,
   "id": "dd5c221c",
   "metadata": {},
   "outputs": [],
   "source": [
    "Xtnef = ft_ext.transform(X_new_test[250000:300000])\n",
    "for i in model.predict(Xtnef):\n",
    "    p.append(i)"
   ]
  },
  {
   "cell_type": "code",
   "execution_count": 36,
   "id": "5a192399",
   "metadata": {},
   "outputs": [],
   "source": [
    "Xtnef = ft_ext.transform(X_new_test[300000:])\n",
    "for i in model.predict(Xtnef):\n",
    "    p.append(i)"
   ]
  },
  {
   "cell_type": "code",
   "execution_count": 37,
   "id": "94de7eb3",
   "metadata": {},
   "outputs": [],
   "source": [
    "final_df['PRODUCT_ID'] = test_df['PRODUCT_ID']\n",
    "final_df['PRODUCT_LENGTH'] = p"
   ]
  },
  {
   "cell_type": "code",
   "execution_count": 38,
   "id": "f0d1a611",
   "metadata": {},
   "outputs": [],
   "source": [
    "\n",
    "final_df.to_csv(r\"dataset\")"
   ]
  },
  {
   "cell_type": "code",
   "execution_count": null,
   "id": "7609787c",
   "metadata": {},
   "outputs": [],
   "source": []
  }
 ],
 "metadata": {
  "kernelspec": {
   "display_name": "Python 3 (ipykernel)",
   "language": "python",
   "name": "python3"
  },
  "language_info": {
   "codemirror_mode": {
    "name": "ipython",
    "version": 3
   },
   "file_extension": ".py",
   "mimetype": "text/x-python",
   "name": "python",
   "nbconvert_exporter": "python",
   "pygments_lexer": "ipython3",
   "version": "3.9.13"
  }
 },
 "nbformat": 4,
 "nbformat_minor": 5
}
